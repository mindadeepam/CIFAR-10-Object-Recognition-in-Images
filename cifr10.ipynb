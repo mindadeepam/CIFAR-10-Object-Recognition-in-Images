{
  "nbformat": 4,
  "nbformat_minor": 0,
  "metadata": {
    "colab": {
      "name": "cifr10.ipynb",
      "provenance": [],
      "collapsed_sections": [
        "zO3z0vmizqmJ",
        "zpwenb-nzowI",
        "QmSVjpOfzvy7"
      ],
      "authorship_tag": "ABX9TyM+HX5H3kylxg8T90JFXZb1",
      "include_colab_link": true
    },
    "kernelspec": {
      "name": "python3",
      "display_name": "Python 3"
    },
    "language_info": {
      "name": "python"
    },
    "gpuClass": "standard"
  },
  "cells": [
    {
      "cell_type": "markdown",
      "metadata": {
        "id": "view-in-github",
        "colab_type": "text"
      },
      "source": [
        "<a href=\"https://colab.research.google.com/github/mindadeepam/CIFAR-10-Object-Recognition-in-Images/blob/main/cifr10.ipynb\" target=\"_parent\"><img src=\"https://colab.research.google.com/assets/colab-badge.svg\" alt=\"Open In Colab\"/></a>"
      ]
    },
    {
      "cell_type": "markdown",
      "source": [
        "## Imports"
      ],
      "metadata": {
        "id": "zO3z0vmizqmJ"
      }
    },
    {
      "cell_type": "code",
      "execution_count": 2,
      "metadata": {
        "colab": {
          "base_uri": "https://localhost:8080/"
        },
        "id": "3EAxCEEwvTU5",
        "outputId": "d765b6a7-aff8-432e-96f6-ff0ff3fb89d9"
      },
      "outputs": [
        {
          "output_type": "stream",
          "name": "stdout",
          "text": [
            "Looking in indexes: https://pypi.org/simple, https://us-python.pkg.dev/colab-wheels/public/simple/\n",
            "Requirement already satisfied: py7zr in /usr/local/lib/python3.7/dist-packages (0.20.0)\n",
            "Requirement already satisfied: importlib-metadata in /usr/local/lib/python3.7/dist-packages (from py7zr) (4.12.0)\n",
            "Requirement already satisfied: pyzstd>=0.14.4 in /usr/local/lib/python3.7/dist-packages (from py7zr) (0.15.3)\n",
            "Requirement already satisfied: multivolumefile>=0.2.3 in /usr/local/lib/python3.7/dist-packages (from py7zr) (0.2.3)\n",
            "Requirement already satisfied: psutil in /usr/local/lib/python3.7/dist-packages (from py7zr) (5.4.8)\n",
            "Requirement already satisfied: texttable in /usr/local/lib/python3.7/dist-packages (from py7zr) (1.6.4)\n",
            "Requirement already satisfied: pycryptodomex>=3.6.6 in /usr/local/lib/python3.7/dist-packages (from py7zr) (3.15.0)\n",
            "Requirement already satisfied: pybcj>=0.6.0 in /usr/local/lib/python3.7/dist-packages (from py7zr) (1.0.1)\n",
            "Requirement already satisfied: inflate64>=0.3.0 in /usr/local/lib/python3.7/dist-packages (from py7zr) (0.3.0)\n",
            "Requirement already satisfied: brotli>=1.0.9 in /usr/local/lib/python3.7/dist-packages (from py7zr) (1.0.9)\n",
            "Requirement already satisfied: pyppmd<0.19.0,>=0.18.1 in /usr/local/lib/python3.7/dist-packages (from py7zr) (0.18.3)\n",
            "Requirement already satisfied: typing-extensions>=3.6.4 in /usr/local/lib/python3.7/dist-packages (from importlib-metadata->py7zr) (4.1.1)\n",
            "Requirement already satisfied: zipp>=0.5 in /usr/local/lib/python3.7/dist-packages (from importlib-metadata->py7zr) (3.8.1)\n"
          ]
        }
      ],
      "source": [
        "!pip install py7zr"
      ]
    },
    {
      "cell_type": "code",
      "source": [
        "import tensorflow as tf\n",
        "import tensorflow.keras as keras"
      ],
      "metadata": {
        "id": "MPF6Qxsnvo9D"
      },
      "execution_count": 3,
      "outputs": []
    },
    {
      "cell_type": "code",
      "source": [
        "import pandas as pd\n",
        "import numpy as np\n",
        "from sklearn.preprocessing import Normalizer\n",
        "from tensorflow.keras.layers import Conv2D, MaxPool2D, Dense, Flatten, Dropout\n",
        "import cv2\n",
        "import matplotlib.pyplot as plt\n",
        "from sklearn.metrics import classification_report\n"
      ],
      "metadata": {
        "id": "r_dTMGfVw2lp"
      },
      "execution_count": 4,
      "outputs": []
    },
    {
      "cell_type": "markdown",
      "source": [
        "## load dataset"
      ],
      "metadata": {
        "id": "zpwenb-nzowI"
      }
    },
    {
      "cell_type": "code",
      "source": [
        "(xtrain, ytrain), (xtest, ytest) = tf.keras.datasets.cifar10.load_data()"
      ],
      "metadata": {
        "id": "kPv9XT1cwE8Z"
      },
      "execution_count": 5,
      "outputs": []
    },
    {
      "cell_type": "code",
      "source": [
        "xtrain.shape, ytrain.shape"
      ],
      "metadata": {
        "colab": {
          "base_uri": "https://localhost:8080/"
        },
        "id": "KYuic9UOwwS1",
        "outputId": "f3b96ac0-e8e5-4378-91cd-c77baf38bc65"
      },
      "execution_count": 6,
      "outputs": [
        {
          "output_type": "execute_result",
          "data": {
            "text/plain": [
              "((50000, 32, 32, 3), (50000, 1))"
            ]
          },
          "metadata": {},
          "execution_count": 6
        }
      ]
    },
    {
      "cell_type": "code",
      "source": [
        "np.unique(ytrain, return_counts=True)"
      ],
      "metadata": {
        "colab": {
          "base_uri": "https://localhost:8080/"
        },
        "id": "J6SX__CL5oUB",
        "outputId": "294fabe1-33e3-471e-d363-22cb679745de"
      },
      "execution_count": 7,
      "outputs": [
        {
          "output_type": "execute_result",
          "data": {
            "text/plain": [
              "(array([0, 1, 2, 3, 4, 5, 6, 7, 8, 9], dtype=uint8),\n",
              " array([5000, 5000, 5000, 5000, 5000, 5000, 5000, 5000, 5000, 5000]))"
            ]
          },
          "metadata": {},
          "execution_count": 7
        }
      ]
    },
    {
      "cell_type": "code",
      "source": [
        "classes =\t['airplane', 'automobile', 'bird', 'cat', 'deer', 'dog', 'frog', 'horse', 'ship', 'truck']"
      ],
      "metadata": {
        "id": "gU2mq_aW6Bx9"
      },
      "execution_count": 8,
      "outputs": []
    },
    {
      "cell_type": "code",
      "source": [
        "def plot_sample(i):\n",
        "  plt.imshow(xtrain[i])\n",
        "  plt.xlabel(classes[ytrain[i]])"
      ],
      "metadata": {
        "id": "tyJ5W3QA6u_P"
      },
      "execution_count": 9,
      "outputs": []
    },
    {
      "cell_type": "markdown",
      "source": [
        "## utils"
      ],
      "metadata": {
        "id": "gDBms1hqzlFQ"
      }
    },
    {
      "cell_type": "code",
      "source": [
        "# transformer = Normalizer().fit(xtrain)\n",
        "def normalize(x):\n",
        "  return x/255"
      ],
      "metadata": {
        "id": "9pQkm1Jyw1qq"
      },
      "execution_count": 10,
      "outputs": []
    },
    {
      "cell_type": "code",
      "source": [
        "def plot_metrics(history):\n",
        "  metrics = ['loss', 'accuracy']\n",
        "  plt.figure(figsize=(15,15))\n",
        "  plt.suptitle(f'Model')\n",
        "  colors = [\"#c52c1b\", \"#b753ea\", \"#13dd13\", \"#00ccff\"]\n",
        "\n",
        "  for n, metric in enumerate(metrics):\n",
        "    name = metric.replace(\"_\",\" \").capitalize()\n",
        "    plt.subplot(2,2,n+1)\n",
        "    plt.plot(history.epoch, history.history[metric], color=colors[n], label='Train')\n",
        "    plt.plot(history.epoch, history.history['val_'+metric],\n",
        "             color=colors[n], linestyle=\"--\", label='Val')\n",
        "    plt.xlabel('Epoch')\n",
        "    plt.ylabel(name)\n",
        "    if metric == 'loss':\n",
        "      plt.ylim([plt.ylim()[0]-.1, 2])\n",
        "    elif metric == 'auc' or metric == 'prc':\n",
        "      plt.ylim([plt.ylim()[0]-.1, 1])\n",
        "    else:\n",
        "      plt.ylim([plt.ylim()[0]-.1, plt.ylim()[1]+.1])\n",
        "\n",
        "    plt.legend();\n",
        "    plt.savefig(f'Model_train_metrics.png') "
      ],
      "metadata": {
        "id": "8-0mruPIxxYy"
      },
      "execution_count": 59,
      "outputs": []
    },
    {
      "cell_type": "markdown",
      "source": [
        "## preprocessing"
      ],
      "metadata": {
        "id": "QmSVjpOfzvy7"
      }
    },
    {
      "cell_type": "code",
      "source": [
        "xtrain[5:10,:,:,:].shape"
      ],
      "metadata": {
        "colab": {
          "base_uri": "https://localhost:8080/"
        },
        "id": "CxiZfj3h4igF",
        "outputId": "c0a6a165-1ce7-4259-eb31-f648db1b9d26"
      },
      "execution_count": 11,
      "outputs": [
        {
          "output_type": "execute_result",
          "data": {
            "text/plain": [
              "(5, 32, 32, 3)"
            ]
          },
          "metadata": {},
          "execution_count": 11
        }
      ]
    },
    {
      "cell_type": "code",
      "source": [
        "xtrain = normalize(xtrain)\n",
        "xtest = normalize(xtest)"
      ],
      "metadata": {
        "id": "GvhhjFJozxWh"
      },
      "execution_count": 12,
      "outputs": []
    },
    {
      "cell_type": "code",
      "source": [
        "train_ds = tf.data.Dataset.from_tensor_slices((xtrain, ytrain))\n",
        "\n",
        "AUTOTUNE = tf.data.AUTOTUNE\n",
        "batch_size=32\n",
        "train_ds = train_ds.shuffle(buffer_size=len(train_ds))\\\n",
        "              .batch(batch_size).cache().prefetch(buffer_size=AUTOTUNE)\n"
      ],
      "metadata": {
        "id": "ynWf06rfp-s3"
      },
      "execution_count": 13,
      "outputs": []
    },
    {
      "cell_type": "code",
      "source": [
        "test_ds = tf.data.Dataset.from_tensor_slices((xtest, ytest))\n",
        "AUTOTUNE = tf.data.AUTOTUNE\n",
        "batch_size=32\n",
        "test_ds = test_ds.shuffle(buffer_size=len(test_ds))\\\n",
        "              .batch(batch_size).cache().prefetch(buffer_size=AUTOTUNE)"
      ],
      "metadata": {
        "id": "OEddz0tZqIJi"
      },
      "execution_count": 14,
      "outputs": []
    },
    {
      "cell_type": "markdown",
      "source": [
        "## ANN model"
      ],
      "metadata": {
        "id": "QyC7_NfxP1Ry"
      }
    },
    {
      "cell_type": "code",
      "source": [
        "base_model = tf.keras.Sequential()\n",
        "base_model.add(Flatten(input_shape=(32,32,3)))\n",
        "base_model.add(Dense(1024, activation='relu'))\n",
        "base_model.add(Dropout(0.5))\n",
        "base_model.add(Dense(256, activation=\"relu\"))\n",
        "base_model.add(Dropout(0.5))\n",
        "base_model.add(Dense(64, activation=\"relu\"))\n",
        "base_model.add(Dense(10, activation='softmax'))"
      ],
      "metadata": {
        "id": "kjRMkzkSz1Cj"
      },
      "execution_count": 28,
      "outputs": []
    },
    {
      "cell_type": "code",
      "source": [
        "base_model.compile(metrics=['accuracy'], optimizer=tf.keras.optimizers.Adam(learning_rate=1e-4),\n",
        "                   loss=tf.keras.losses.SparseCategoricalCrossentropy())"
      ],
      "metadata": {
        "id": "CvIGUdjoA7X6"
      },
      "execution_count": 29,
      "outputs": []
    },
    {
      "cell_type": "code",
      "source": [
        "base_model.summary()"
      ],
      "metadata": {
        "id": "h8WR9QibOUMv"
      },
      "execution_count": null,
      "outputs": []
    },
    {
      "cell_type": "markdown",
      "source": [
        "### untrained model - baseline"
      ],
      "metadata": {
        "id": "oUWTYnQ7dssB"
      }
    },
    {
      "cell_type": "code",
      "source": [
        "ypred=base_model.predict(xtrain)"
      ],
      "metadata": {
        "id": "b1KuOmzE3804"
      },
      "execution_count": 21,
      "outputs": []
    },
    {
      "cell_type": "code",
      "source": [
        "predictions = np.array([np.argmax(element) for element in ypred])\n",
        "predictions = predictions.reshape(-1,1)\n",
        "assert ytrain.shape == predictions.shape"
      ],
      "metadata": {
        "id": "CgeIqYBqL3el"
      },
      "execution_count": 22,
      "outputs": []
    },
    {
      "cell_type": "code",
      "source": [
        "print(classification_report(ytrain, predictions))"
      ],
      "metadata": {
        "colab": {
          "base_uri": "https://localhost:8080/"
        },
        "id": "fGLYUor1OFLv",
        "outputId": "d0926611-8452-401c-baa8-f22d3952b89b"
      },
      "execution_count": 23,
      "outputs": [
        {
          "output_type": "stream",
          "name": "stdout",
          "text": [
            "              precision    recall  f1-score   support\n",
            "\n",
            "           0       0.00      0.00      0.00      5000\n",
            "           1       0.00      0.00      0.00      5000\n",
            "           2       0.00      0.00      0.00      5000\n",
            "           3       0.00      0.00      0.00      5000\n",
            "           4       0.10      1.00      0.18      5000\n",
            "           5       0.00      0.00      0.00      5000\n",
            "           6       0.00      0.00      0.00      5000\n",
            "           7       0.00      0.00      0.00      5000\n",
            "           8       0.00      0.00      0.00      5000\n",
            "           9       0.00      0.00      0.00      5000\n",
            "\n",
            "    accuracy                           0.10     50000\n",
            "   macro avg       0.01      0.10      0.02     50000\n",
            "weighted avg       0.01      0.10      0.02     50000\n",
            "\n"
          ]
        },
        {
          "output_type": "stream",
          "name": "stderr",
          "text": [
            "/usr/local/lib/python3.7/dist-packages/sklearn/metrics/_classification.py:1318: UndefinedMetricWarning: Precision and F-score are ill-defined and being set to 0.0 in labels with no predicted samples. Use `zero_division` parameter to control this behavior.\n",
            "  _warn_prf(average, modifier, msg_start, len(result))\n",
            "/usr/local/lib/python3.7/dist-packages/sklearn/metrics/_classification.py:1318: UndefinedMetricWarning: Precision and F-score are ill-defined and being set to 0.0 in labels with no predicted samples. Use `zero_division` parameter to control this behavior.\n",
            "  _warn_prf(average, modifier, msg_start, len(result))\n",
            "/usr/local/lib/python3.7/dist-packages/sklearn/metrics/_classification.py:1318: UndefinedMetricWarning: Precision and F-score are ill-defined and being set to 0.0 in labels with no predicted samples. Use `zero_division` parameter to control this behavior.\n",
            "  _warn_prf(average, modifier, msg_start, len(result))\n"
          ]
        }
      ]
    },
    {
      "cell_type": "markdown",
      "source": [
        "### ann model performance"
      ],
      "metadata": {
        "id": "Kc6QrV12dw-E"
      }
    },
    {
      "cell_type": "code",
      "source": [
        "histories = {}"
      ],
      "metadata": {
        "id": "6_FhJqJJciih"
      },
      "execution_count": 31,
      "outputs": []
    },
    {
      "cell_type": "code",
      "source": [
        "stop_early = tf.keras.callbacks.EarlyStopping(monitor='val_loss', patience=5, mode='min')\n",
        "history = base_model.fit(train_ds, validation_data=test_ds, epochs=50, callback=[stop_early])\n",
        "histories['1e-3'] = history\n"
      ],
      "metadata": {
        "id": "G0V5VoRcc6aJ"
      },
      "execution_count": null,
      "outputs": []
    },
    {
      "cell_type": "code",
      "source": [
        "## e-2 too high LR - No learning\n",
        "history = base_model.fit(train_ds, epochs=50)\n",
        "histories['1e-2'] = history"
      ],
      "metadata": {
        "id": "c5tdoMPCdSw_"
      },
      "execution_count": 42,
      "outputs": []
    },
    {
      "cell_type": "code",
      "source": [
        "ypred=base_model.predict(xtrain)\n",
        "predictions = np.array([np.argmax(element) for element in ypred])\n",
        "predictions = predictions.reshape(-1,1)\n",
        "ann_accuracy = base_model.evaluate(train_ds)"
      ],
      "metadata": {
        "colab": {
          "base_uri": "https://localhost:8080/"
        },
        "id": "MJxkcbfyZT1f",
        "outputId": "e25e1937-5ed0-4820-fc24-daf6c4e98d39"
      },
      "execution_count": 64,
      "outputs": [
        {
          "output_type": "stream",
          "name": "stdout",
          "text": [
            "1563/1563 [==============================] - 6s 3ms/step - loss: 1.2390 - accuracy: 0.5664\n"
          ]
        }
      ]
    },
    {
      "cell_type": "markdown",
      "source": [
        "## CNN model"
      ],
      "metadata": {
        "id": "3EoMuxuQeIVp"
      }
    },
    {
      "cell_type": "code",
      "source": [
        "def create_cnn():\n",
        "  cnn_model = tf.keras.Sequential()\n",
        "  cnn_model.add(Conv2D(filters=64, kernel_size=(3,3), strides=(1,1), activation='relu'))\n",
        "  cnn_model.add(MaxPool2D((2, 2)))\n",
        "  cnn_model.add(Conv2D(filters=128, kernel_size=(3,3), activation='relu'))\n",
        "  cnn_model.add(MaxPool2D((2, 2)))\n",
        "  cnn_model.add(Conv2D(filters=256, kernel_size=(3,3), activation='relu'))\n",
        "  cnn_model.add(MaxPool2D((2, 2)))\n",
        "  cnn_model.add(Flatten())\n",
        "  cnn_model.add(Dense(128, activation='relu'))\n",
        "  cnn_model.add(Dropout(0.3))\n",
        "  cnn_model.add(Dense(32, activation='relu'))\n",
        "  cnn_model.add(Dropout(0.3))\n",
        "  cnn_model.add(Dense(10, activation='softmax'))\n",
        "  # cnn_model.add(MaxPool2D((2, 2)))\n",
        "\n",
        "  cnn_model.compile(metrics=['accuracy'], optimizer=tf.keras.optimizers.Adam(learning_rate=1e-4),\n",
        "                    loss=tf.keras.losses.SparseCategoricalCrossentropy(from_logits=False))\n",
        "  \n",
        "  return cnn_model"
      ],
      "metadata": {
        "id": "Ot_y5PHxeK81"
      },
      "execution_count": 74,
      "outputs": []
    },
    {
      "cell_type": "code",
      "source": [
        "## callbacks\n",
        "checkpoint_filepath = f'cnn_checkpoint/model_checkpoint'  \n",
        "model_checkpoint = tf.keras.callbacks.ModelCheckpoint(\n",
        "  filepath=checkpoint_filepath,\n",
        "  save_weights_only=True,\n",
        "  monitor='val_loss',\n",
        "  mode='min',\n",
        "  save_best_only=True)\n",
        "stop_early = tf.keras.callbacks.EarlyStopping(monitor='val_loss', patience=10, mode='min')\n",
        "\n",
        "## train model\n",
        "cnn_model = create_cnn()\n",
        "history = cnn_model.fit(train_ds, validation_data=test_ds, epochs=100, callbacks=[stop_early,model_checkpoint])"
      ],
      "metadata": {
        "id": "vhC56oQK0SZ4"
      },
      "execution_count": null,
      "outputs": []
    },
    {
      "cell_type": "code",
      "source": [
        "## load best model from checkpoint and evaluate against test data\n",
        "loaded_cnn = create_cnn()\n",
        "loaded_cnn.load_weights(checkpoint_filepath)\n",
        "\n",
        "\n",
        "cnn_y = loaded_cnn.predict(xtrain)\n",
        "cnn_predictions = np.array([np.argmax(element) for element in cnn_y])\n",
        "cnn_predictions = predictions.reshape(-1,1)\n",
        "cnn_accuracy = loaded_cnn.evaluate(train_ds)"
      ],
      "metadata": {
        "colab": {
          "base_uri": "https://localhost:8080/"
        },
        "id": "tJtXvFoSyo40",
        "outputId": "5a333485-b166-4851-b347-f28d5099f6c2"
      },
      "execution_count": 76,
      "outputs": [
        {
          "output_type": "stream",
          "name": "stdout",
          "text": [
            "1563/1563 [==============================] - 6s 3ms/step - loss: 0.4699 - accuracy: 0.8405\n"
          ]
        }
      ]
    },
    {
      "cell_type": "code",
      "source": [
        "cnn_histories = {}\n",
        "cnn_histories['1e-4'] = history"
      ],
      "metadata": {
        "id": "tph_yqrX08ny"
      },
      "execution_count": 77,
      "outputs": []
    },
    {
      "cell_type": "code",
      "source": [
        "print(classification_report(ytrain, cnn_predictions))"
      ],
      "metadata": {
        "id": "H3BYLTCXyfZS"
      },
      "execution_count": null,
      "outputs": []
    },
    {
      "cell_type": "markdown",
      "source": [
        "## plot metrics"
      ],
      "metadata": {
        "id": "XdD2jRq3vGhp"
      }
    },
    {
      "cell_type": "code",
      "source": [
        "plot_metrics(histories['1e-3'])\n",
        "plot_metrics(cnn_histories['1e-4'])"
      ],
      "metadata": {
        "colab": {
          "base_uri": "https://localhost:8080/",
          "height": 1000
        },
        "id": "Fi-5txztvN8f",
        "outputId": "73dc5c43-eaf0-4015-9920-9bbb7aa26981"
      },
      "execution_count": 79,
      "outputs": [
        {
          "output_type": "display_data",
          "data": {
            "text/plain": [
              "<Figure size 1080x1080 with 2 Axes>"
            ],
            "image/png": "[encoded data removed]"
          },
          "metadata": {
            "needs_background": "light"
          }
        },
        {
          "output_type": "display_data",
          "data": {
            "text/plain": [
              "<Figure size 1080x1080 with 2 Axes>"
            ],
            "image/png": "[encoded data removed]"
          },
          "metadata": {
            "needs_background": "light"
          }
        }
      ]
    },
    {
      "cell_type": "code",
      "source": [
        ""
      ],
      "metadata": {
        "id": "fRbDrYIhv9rB"
      },
      "execution_count": null,
      "outputs": []
    }
  ]
}