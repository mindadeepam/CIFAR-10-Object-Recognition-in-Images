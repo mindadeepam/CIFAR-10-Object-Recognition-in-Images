{
  "nbformat": 4,
  "nbformat_minor": 0,
  "metadata": {
    "colab": {
      "name": "tensorflow.ipynb",
      "provenance": [],
      "collapsed_sections": [
        "zO3z0vmizqmJ",
        "zpwenb-nzowI",
        "gDBms1hqzlFQ",
        "QmSVjpOfzvy7",
        "XdD2jRq3vGhp"
      ],
      "toc_visible": true,
      "authorship_tag": "ABX9TyOk6cU1+yRaTEb2o0DjkWVr",
      "include_colab_link": true
    },
    "kernelspec": {
      "name": "python3",
      "display_name": "Python 3"
    },
    "language_info": {
      "name": "python"
    },
    "gpuClass": "standard"
  },
  "cells": [
    {
      "cell_type": "markdown",
      "metadata": {
        "id": "view-in-github",
        "colab_type": "text"
      },
      "source": [
        "<a href=\"https://colab.research.google.com/github/mindadeepam/CIFAR-10-Object-Recognition-in-Images/blob/main/tensorflow.ipynb\" target=\"_parent\"><img src=\"https://colab.research.google.com/assets/colab-badge.svg\" alt=\"Open In Colab\"/></a>"
      ]
    },
    {
      "cell_type": "markdown",
      "source": [
        "## Imports"
      ],
      "metadata": {
        "id": "zO3z0vmizqmJ"
      }
    },
    {
      "cell_type": "code",
      "execution_count": null,
      "metadata": {
        "id": "3EAxCEEwvTU5"
      },
      "outputs": [],
      "source": [
        "# !pip install py7zr"
      ]
    },
    {
      "cell_type": "code",
      "source": [
        "import tensorflow as tf\n",
        "import tensorflow.keras as keras"
      ],
      "metadata": {
        "id": "MPF6Qxsnvo9D"
      },
      "execution_count": null,
      "outputs": []
    },
    {
      "cell_type": "code",
      "source": [
        "import pandas as pd\n",
        "import numpy as np\n",
        "from sklearn.preprocessing import Normalizer\n",
        "from tensorflow.keras.layers import Conv2D, MaxPool2D, Dense, Flatten, Dropout\n",
        "import cv2\n",
        "import matplotlib.pyplot as plt\n",
        "from sklearn.metrics import classification_report\n",
        "import warnings\n",
        "warnings.filterwarnings(\"ignore\")"
      ],
      "metadata": {
        "id": "r_dTMGfVw2lp"
      },
      "execution_count": null,
      "outputs": []
    },
    {
      "cell_type": "markdown",
      "source": [
        "## load dataset"
      ],
      "metadata": {
        "id": "zpwenb-nzowI"
      }
    },
    {
      "cell_type": "code",
      "source": [
        "(xtrain, ytrain), (xtest, ytest) = tf.keras.datasets.cifar10.load_data()"
      ],
      "metadata": {
        "id": "kPv9XT1cwE8Z"
      },
      "execution_count": null,
      "outputs": []
    },
    {
      "cell_type": "code",
      "source": [
        "xtrain.shape, ytrain.shape"
      ],
      "metadata": {
        "colab": {
          "base_uri": "https://localhost:8080/"
        },
        "id": "KYuic9UOwwS1",
        "outputId": "f91736fd-31db-4b37-dd5e-6d339ee993a6"
      },
      "execution_count": null,
      "outputs": [
        {
          "output_type": "execute_result",
          "data": {
            "text/plain": [
              "((50000, 32, 32, 3), (50000, 1))"
            ]
          },
          "metadata": {},
          "execution_count": 6
        }
      ]
    },
    {
      "cell_type": "code",
      "source": [
        "np.unique(ytrain, return_counts=True)"
      ],
      "metadata": {
        "colab": {
          "base_uri": "https://localhost:8080/"
        },
        "id": "J6SX__CL5oUB",
        "outputId": "c8e37981-450b-4146-ac25-affe48144d73"
      },
      "execution_count": null,
      "outputs": [
        {
          "output_type": "execute_result",
          "data": {
            "text/plain": [
              "(array([0, 1, 2, 3, 4, 5, 6, 7, 8, 9], dtype=uint8),\n",
              " array([5000, 5000, 5000, 5000, 5000, 5000, 5000, 5000, 5000, 5000]))"
            ]
          },
          "metadata": {},
          "execution_count": 7
        }
      ]
    },
    {
      "cell_type": "code",
      "source": [
        "classes =\t['airplane', 'automobile', 'bird', 'cat', 'deer', 'dog', 'frog', 'horse', 'ship', 'truck']"
      ],
      "metadata": {
        "id": "gU2mq_aW6Bx9"
      },
      "execution_count": null,
      "outputs": []
    },
    {
      "cell_type": "code",
      "source": [
        "def plot_sample(i):\n",
        "  plt.imshow(xtrain[i])\n",
        "  plt.xlabel(classes[ytrain[i]])"
      ],
      "metadata": {
        "id": "tyJ5W3QA6u_P"
      },
      "execution_count": null,
      "outputs": []
    },
    {
      "cell_type": "markdown",
      "source": [
        "## utils"
      ],
      "metadata": {
        "id": "gDBms1hqzlFQ"
      }
    },
    {
      "cell_type": "code",
      "source": [
        "# transformer = Normalizer().fit(xtrain)\n",
        "def normalize(x):\n",
        "  return x/255"
      ],
      "metadata": {
        "id": "9pQkm1Jyw1qq"
      },
      "execution_count": null,
      "outputs": []
    },
    {
      "cell_type": "code",
      "source": [
        "def plot_metrics(history, suptitle=\"Model\"):\n",
        "  metrics = ['loss', 'accuracy']\n",
        "  plt.figure(figsize=(15,15))\n",
        "  plt.suptitle(f'Model')\n",
        "  colors = [\"#c52c1b\", \"#b753ea\", \"#13dd13\", \"#00ccff\"]\n",
        "\n",
        "  for n, metric in enumerate(metrics):\n",
        "    name = metric.replace(\"_\",\" \").capitalize()\n",
        "    plt.subplot(2,2,n+1)\n",
        "    plt.plot(history.epoch, history.history[metric], color=colors[n], label='Train')\n",
        "    plt.plot(history.epoch, history.history['val_'+metric],\n",
        "             color=colors[n], linestyle=\"--\", label='Val')\n",
        "    plt.xlabel('Epoch')\n",
        "    plt.ylabel(name)\n",
        "    if metric == 'loss':\n",
        "      plt.ylim([plt.ylim()[0]-.1, 2])\n",
        "    elif metric == 'auc' or metric == 'prc':\n",
        "      plt.ylim([plt.ylim()[0]-.1, 1])\n",
        "    else:\n",
        "      plt.ylim([plt.ylim()[0]-.1, plt.ylim()[1]+.1])\n",
        "\n",
        "    plt.legend();\n",
        "    plt.savefig(f'Model_train_metrics.png') "
      ],
      "metadata": {
        "id": "8-0mruPIxxYy"
      },
      "execution_count": null,
      "outputs": []
    },
    {
      "cell_type": "markdown",
      "source": [
        "## preprocessing"
      ],
      "metadata": {
        "id": "QmSVjpOfzvy7"
      }
    },
    {
      "cell_type": "code",
      "source": [
        "xtrain[5:10,:,:,:].shape"
      ],
      "metadata": {
        "colab": {
          "base_uri": "https://localhost:8080/"
        },
        "id": "CxiZfj3h4igF",
        "outputId": "8e066f8c-789a-4076-a944-68b54b1d8220"
      },
      "execution_count": null,
      "outputs": [
        {
          "output_type": "execute_result",
          "data": {
            "text/plain": [
              "(5, 32, 32, 3)"
            ]
          },
          "metadata": {},
          "execution_count": 12
        }
      ]
    },
    {
      "cell_type": "code",
      "source": [
        "xtrain = normalize(xtrain)\n",
        "xtest = normalize(xtest)"
      ],
      "metadata": {
        "id": "GvhhjFJozxWh"
      },
      "execution_count": null,
      "outputs": []
    },
    {
      "cell_type": "code",
      "source": [
        "train_ds = tf.data.Dataset.from_tensor_slices((xtrain, ytrain))\n",
        "\n",
        "AUTOTUNE = tf.data.AUTOTUNE\n",
        "batch_size=32\n",
        "train_ds = train_ds.shuffle(buffer_size=len(train_ds))\\\n",
        "              .batch(batch_size).cache().prefetch(buffer_size=AUTOTUNE)\n"
      ],
      "metadata": {
        "id": "ynWf06rfp-s3"
      },
      "execution_count": null,
      "outputs": []
    },
    {
      "cell_type": "code",
      "source": [
        "test_ds = tf.data.Dataset.from_tensor_slices((xtest, ytest))\n",
        "AUTOTUNE = tf.data.AUTOTUNE\n",
        "batch_size=32\n",
        "test_ds = test_ds.shuffle(buffer_size=len(test_ds))\\\n",
        "              .batch(batch_size).cache().prefetch(buffer_size=AUTOTUNE)"
      ],
      "metadata": {
        "id": "OEddz0tZqIJi"
      },
      "execution_count": null,
      "outputs": []
    },
    {
      "cell_type": "markdown",
      "source": [
        "## ANN model"
      ],
      "metadata": {
        "id": "QyC7_NfxP1Ry"
      }
    },
    {
      "cell_type": "code",
      "source": [
        "def create_ann():\n",
        "  base_model = tf.keras.Sequential()\n",
        "  base_model.add(Flatten(input_shape=(32,32,3)))\n",
        "  base_model.add(Dense(1024, activation='relu'))\n",
        "  base_model.add(Dropout(0.5))\n",
        "  base_model.add(Dense(256, activation=\"relu\"))\n",
        "  base_model.add(Dropout(0.5))\n",
        "  base_model.add(Dense(64, activation=\"relu\"))\n",
        "  base_model.add(Dense(10, activation='softmax'))\n",
        "\n",
        "  base_model.compile(metrics=['accuracy'], optimizer=tf.keras.optimizers.Adam(learning_rate=1e-4),\n",
        "                   loss=tf.keras.losses.SparseCategoricalCrossentropy())\n",
        "  \n",
        "  return base_model"
      ],
      "metadata": {
        "id": "kjRMkzkSz1Cj"
      },
      "execution_count": null,
      "outputs": []
    },
    {
      "cell_type": "code",
      "source": [
        "create_ann().summary()"
      ],
      "metadata": {
        "colab": {
          "base_uri": "https://localhost:8080/"
        },
        "id": "h8WR9QibOUMv",
        "outputId": "219deafc-9b1e-42f6-c496-804d33bcf772"
      },
      "execution_count": null,
      "outputs": [
        {
          "output_type": "stream",
          "name": "stdout",
          "text": [
            "Model: \"sequential\"\n",
            "_________________________________________________________________\n",
            " Layer (type)                Output Shape              Param #   \n",
            "=================================================================\n",
            " flatten (Flatten)           (None, 3072)              0         \n",
            "                                                                 \n",
            " dense (Dense)               (None, 1024)              3146752   \n",
            "                                                                 \n",
            " dropout (Dropout)           (None, 1024)              0         \n",
            "                                                                 \n",
            " dense_1 (Dense)             (None, 256)               262400    \n",
            "                                                                 \n",
            " dropout_1 (Dropout)         (None, 256)               0         \n",
            "                                                                 \n",
            " dense_2 (Dense)             (None, 64)                16448     \n",
            "                                                                 \n",
            " dense_3 (Dense)             (None, 10)                650       \n",
            "                                                                 \n",
            "=================================================================\n",
            "Total params: 3,426,250\n",
            "Trainable params: 3,426,250\n",
            "Non-trainable params: 0\n",
            "_________________________________________________________________\n"
          ]
        }
      ]
    },
    {
      "cell_type": "markdown",
      "source": [
        "### untrained model - baseline"
      ],
      "metadata": {
        "id": "oUWTYnQ7dssB"
      }
    },
    {
      "cell_type": "code",
      "source": [
        "base_model = create_ann()\n",
        "ypred=base_model.predict(xtrain)"
      ],
      "metadata": {
        "id": "b1KuOmzE3804"
      },
      "execution_count": null,
      "outputs": []
    },
    {
      "cell_type": "code",
      "source": [
        "predictions = np.array([np.argmax(element) for element in ypred])\n",
        "predictions = predictions.reshape(-1,1)\n",
        "assert ytrain.shape == predictions.shape\n",
        "print(classification_report(ytrain, predictions))\n"
      ],
      "metadata": {
        "colab": {
          "base_uri": "https://localhost:8080/"
        },
        "id": "CgeIqYBqL3el",
        "outputId": "dd1c6fdb-b79c-46a0-fcc8-5b903b10a9a4"
      },
      "execution_count": null,
      "outputs": [
        {
          "output_type": "stream",
          "name": "stdout",
          "text": [
            "              precision    recall  f1-score   support\n",
            "\n",
            "           0       0.00      0.00      0.00      5000\n",
            "           1       0.11      0.16      0.13      5000\n",
            "           2       0.13      0.31      0.18      5000\n",
            "           3       0.13      0.01      0.02      5000\n",
            "           4       0.02      0.00      0.01      5000\n",
            "           5       0.17      0.00      0.00      5000\n",
            "           6       0.09      0.38      0.15      5000\n",
            "           7       0.05      0.01      0.02      5000\n",
            "           8       0.07      0.10      0.08      5000\n",
            "           9       0.00      0.00      0.00      5000\n",
            "\n",
            "    accuracy                           0.10     50000\n",
            "   macro avg       0.08      0.10      0.06     50000\n",
            "weighted avg       0.08      0.10      0.06     50000\n",
            "\n"
          ]
        }
      ]
    },
    {
      "cell_type": "markdown",
      "source": [
        "### ann model performance"
      ],
      "metadata": {
        "id": "Kc6QrV12dw-E"
      }
    },
    {
      "cell_type": "code",
      "source": [
        "histories = {\"ann\": {},\n",
        "             \"cnn\": {}}"
      ],
      "metadata": {
        "id": "6_FhJqJJciih"
      },
      "execution_count": null,
      "outputs": []
    },
    {
      "cell_type": "code",
      "source": [
        "stop_early = tf.keras.callbacks.EarlyStopping(monitor='val_loss', patience=5, mode='min')\n",
        "checkpoint_filepath = f'ann_checkpoint/model_checkpoint'  \n",
        "model_checkpoint = tf.keras.callbacks.ModelCheckpoint(\n",
        "  filepath=checkpoint_filepath,\n",
        "  save_weights_only=True,\n",
        "  monitor='val_loss',\n",
        "  mode='min',\n",
        "  save_best_only=True)\n",
        "\n",
        "history = base_model.fit(train_ds, validation_data=test_ds, epochs=100, callbacks=[stop_early, model_checkpoint])\n",
        "histories['ann'][\"history\"] = history\n"
      ],
      "metadata": {
        "id": "G0V5VoRcc6aJ"
      },
      "execution_count": null,
      "outputs": []
    },
    {
      "cell_type": "code",
      "source": [
        "## load best model from checkpoint and evaluate against test data\n",
        "loaded_cnn = create_ann()\n",
        "loaded_cnn.load_weights(checkpoint_filepath)\n",
        "\n",
        "ypred=base_model.predict(xtrain)\n",
        "predictions = np.array([np.argmax(element) for element in ypred])\n",
        "predictions = predictions.reshape(-1,1)\n",
        "histories['ann']['test_accuracy'] = base_model.evaluate(train_ds)"
      ],
      "metadata": {
        "colab": {
          "base_uri": "https://localhost:8080/"
        },
        "id": "MJxkcbfyZT1f",
        "outputId": "f8c0adf3-542d-4833-83cc-b7cde7d0d420"
      },
      "execution_count": null,
      "outputs": [
        {
          "output_type": "stream",
          "name": "stdout",
          "text": [
            "1563/1563 [==============================] - 5s 3ms/step - loss: 1.2263 - accuracy: 0.5792\n"
          ]
        }
      ]
    },
    {
      "cell_type": "code",
      "source": [
        "## e-2 too high LR - No learning\n",
        "# history = base_model.fit(train_ds, epochs=50)\n",
        "# histories['1e-2'] = history"
      ],
      "metadata": {
        "id": "c5tdoMPCdSw_"
      },
      "execution_count": null,
      "outputs": []
    },
    {
      "cell_type": "markdown",
      "source": [
        "## CNN model"
      ],
      "metadata": {
        "id": "3EoMuxuQeIVp"
      }
    },
    {
      "cell_type": "code",
      "source": [
        "def create_cnn():\n",
        "  cnn_model = tf.keras.Sequential()\n",
        "  cnn_model.add(Conv2D(filters=64, kernel_size=(3,3), strides=(1,1), activation='relu'))\n",
        "  cnn_model.add(MaxPool2D((2, 2)))\n",
        "  cnn_model.add(Conv2D(filters=128, kernel_size=(3,3), activation='relu'))\n",
        "  cnn_model.add(MaxPool2D((2, 2)))\n",
        "  cnn_model.add(Conv2D(filters=256, kernel_size=(3,3), activation='relu'))\n",
        "  cnn_model.add(MaxPool2D((2, 2)))\n",
        "  cnn_model.add(Flatten())\n",
        "  cnn_model.add(Dense(128, activation='relu'))\n",
        "  cnn_model.add(Dropout(0.3))\n",
        "  cnn_model.add(Dense(32, activation='relu'))\n",
        "  cnn_model.add(Dropout(0.3))\n",
        "  cnn_model.add(Dense(10, activation='softmax'))\n",
        "  # cnn_model.add(MaxPool2D((2, 2)))\n",
        "\n",
        "  cnn_model.compile(metrics=['accuracy'], optimizer=tf.keras.optimizers.Adam(learning_rate=1e-4),\n",
        "                    loss=tf.keras.losses.SparseCategoricalCrossentropy(from_logits=False))\n",
        "  \n",
        "  return cnn_model"
      ],
      "metadata": {
        "id": "Ot_y5PHxeK81"
      },
      "execution_count": null,
      "outputs": []
    },
    {
      "cell_type": "code",
      "source": [
        "## callbacks\n",
        "checkpoint_filepath = f'cnn_checkpoint/model_checkpoint'  \n",
        "model_checkpoint = tf.keras.callbacks.ModelCheckpoint(\n",
        "  filepath=checkpoint_filepath,\n",
        "  save_weights_only=True,\n",
        "  monitor='val_loss',\n",
        "  mode='min',\n",
        "  save_best_only=True)\n",
        "stop_early = tf.keras.callbacks.EarlyStopping(monitor='val_loss', patience=10, mode='min')\n",
        "\n",
        "## train model\n",
        "cnn_model = create_cnn()\n",
        "history = cnn_model.fit(train_ds, validation_data=test_ds, epochs=100, callbacks=[stop_early,model_checkpoint])"
      ],
      "metadata": {
        "colab": {
          "base_uri": "https://localhost:8080/"
        },
        "id": "vhC56oQK0SZ4",
        "outputId": "200c291c-91c3-4fe9-f931-6cb771b0ddd1"
      },
      "execution_count": null,
      "outputs": [
        {
          "output_type": "stream",
          "name": "stdout",
          "text": [
            "Epoch 1/100\n",
            "1563/1563 [==============================] - 18s 5ms/step - loss: 1.9494 - accuracy: 0.2672 - val_loss: 1.6346 - val_accuracy: 0.4188\n",
            "Epoch 2/100\n",
            "1563/1563 [==============================] - 8s 5ms/step - loss: 1.6597 - accuracy: 0.3889 - val_loss: 1.4379 - val_accuracy: 0.4952\n",
            "Epoch 3/100\n",
            "1563/1563 [==============================] - 8s 5ms/step - loss: 1.5099 - accuracy: 0.4549 - val_loss: 1.3064 - val_accuracy: 0.5346\n",
            "Epoch 4/100\n",
            "1563/1563 [==============================] - 8s 5ms/step - loss: 1.4080 - accuracy: 0.4957 - val_loss: 1.2658 - val_accuracy: 0.5479\n",
            "Epoch 5/100\n",
            "1563/1563 [==============================] - 8s 5ms/step - loss: 1.3223 - accuracy: 0.5311 - val_loss: 1.1556 - val_accuracy: 0.5910\n",
            "Epoch 6/100\n",
            "1563/1563 [==============================] - 8s 5ms/step - loss: 1.2515 - accuracy: 0.5605 - val_loss: 1.1069 - val_accuracy: 0.6116\n",
            "Epoch 7/100\n",
            "1563/1563 [==============================] - 8s 5ms/step - loss: 1.1886 - accuracy: 0.5843 - val_loss: 1.0839 - val_accuracy: 0.6218\n",
            "Epoch 8/100\n",
            "1563/1563 [==============================] - 8s 5ms/step - loss: 1.1365 - accuracy: 0.6075 - val_loss: 1.0360 - val_accuracy: 0.6434\n",
            "Epoch 9/100\n",
            "1563/1563 [==============================] - 9s 6ms/step - loss: 1.0886 - accuracy: 0.6260 - val_loss: 1.0049 - val_accuracy: 0.6527\n",
            "Epoch 10/100\n",
            "1563/1563 [==============================] - 8s 5ms/step - loss: 1.0375 - accuracy: 0.6442 - val_loss: 0.9673 - val_accuracy: 0.6686\n",
            "Epoch 11/100\n",
            "1563/1563 [==============================] - 8s 5ms/step - loss: 0.9972 - accuracy: 0.6586 - val_loss: 0.9271 - val_accuracy: 0.6805\n",
            "Epoch 12/100\n",
            "1563/1563 [==============================] - 8s 5ms/step - loss: 0.9581 - accuracy: 0.6722 - val_loss: 0.9161 - val_accuracy: 0.6851\n",
            "Epoch 13/100\n",
            "1563/1563 [==============================] - 8s 5ms/step - loss: 0.9228 - accuracy: 0.6869 - val_loss: 0.8930 - val_accuracy: 0.6945\n",
            "Epoch 14/100\n",
            "1563/1563 [==============================] - 8s 5ms/step - loss: 0.8873 - accuracy: 0.6989 - val_loss: 0.8805 - val_accuracy: 0.7005\n",
            "Epoch 15/100\n",
            "1563/1563 [==============================] - 8s 5ms/step - loss: 0.8554 - accuracy: 0.7104 - val_loss: 0.8882 - val_accuracy: 0.6918\n",
            "Epoch 16/100\n",
            "1563/1563 [==============================] - 8s 5ms/step - loss: 0.8226 - accuracy: 0.7214 - val_loss: 0.8648 - val_accuracy: 0.7090\n",
            "Epoch 17/100\n",
            "1563/1563 [==============================] - 8s 5ms/step - loss: 0.7931 - accuracy: 0.7335 - val_loss: 0.8442 - val_accuracy: 0.7169\n",
            "Epoch 18/100\n",
            "1563/1563 [==============================] - 8s 5ms/step - loss: 0.7627 - accuracy: 0.7432 - val_loss: 0.8311 - val_accuracy: 0.7214\n",
            "Epoch 19/100\n",
            "1563/1563 [==============================] - 9s 6ms/step - loss: 0.7354 - accuracy: 0.7526 - val_loss: 0.8712 - val_accuracy: 0.7093\n",
            "Epoch 20/100\n",
            "1563/1563 [==============================] - 8s 5ms/step - loss: 0.7124 - accuracy: 0.7605 - val_loss: 0.8184 - val_accuracy: 0.7253\n",
            "Epoch 21/100\n",
            "1563/1563 [==============================] - 8s 5ms/step - loss: 0.6797 - accuracy: 0.7714 - val_loss: 0.8449 - val_accuracy: 0.7179\n",
            "Epoch 22/100\n",
            "1563/1563 [==============================] - 8s 5ms/step - loss: 0.6575 - accuracy: 0.7784 - val_loss: 0.8307 - val_accuracy: 0.7220\n",
            "Epoch 23/100\n",
            "1563/1563 [==============================] - 8s 5ms/step - loss: 0.6355 - accuracy: 0.7864 - val_loss: 0.8347 - val_accuracy: 0.7258\n",
            "Epoch 24/100\n",
            "1563/1563 [==============================] - 8s 5ms/step - loss: 0.6071 - accuracy: 0.7949 - val_loss: 0.8566 - val_accuracy: 0.7174\n",
            "Epoch 25/100\n",
            "1563/1563 [==============================] - 8s 5ms/step - loss: 0.5870 - accuracy: 0.8017 - val_loss: 0.8482 - val_accuracy: 0.7200\n",
            "Epoch 26/100\n",
            "1563/1563 [==============================] - 8s 5ms/step - loss: 0.5628 - accuracy: 0.8106 - val_loss: 0.8900 - val_accuracy: 0.7168\n",
            "Epoch 27/100\n",
            "1563/1563 [==============================] - 8s 5ms/step - loss: 0.5374 - accuracy: 0.8193 - val_loss: 0.8398 - val_accuracy: 0.7281\n",
            "Epoch 28/100\n",
            "1563/1563 [==============================] - 8s 5ms/step - loss: 0.5174 - accuracy: 0.8252 - val_loss: 0.8781 - val_accuracy: 0.7270\n",
            "Epoch 29/100\n",
            "1563/1563 [==============================] - 8s 5ms/step - loss: 0.5006 - accuracy: 0.8303 - val_loss: 0.8539 - val_accuracy: 0.7338\n",
            "Epoch 30/100\n",
            "1563/1563 [==============================] - 8s 5ms/step - loss: 0.4782 - accuracy: 0.8386 - val_loss: 0.8480 - val_accuracy: 0.7362\n"
          ]
        }
      ]
    },
    {
      "cell_type": "code",
      "source": [
        "## load best model from checkpoint and evaluate against test data\n",
        "loaded_cnn = create_cnn()\n",
        "loaded_cnn.load_weights(checkpoint_filepath)\n",
        "\n",
        "\n",
        "cnn_y = loaded_cnn.predict(xtrain)\n",
        "cnn_predictions = np.array([np.argmax(element) for element in cnn_y])\n",
        "cnn_predictions = predictions.reshape(-1,1)\n",
        "cnn_accuracy = loaded_cnn.evaluate(train_ds)"
      ],
      "metadata": {
        "colab": {
          "base_uri": "https://localhost:8080/"
        },
        "id": "tJtXvFoSyo40",
        "outputId": "613eb74a-233c-42e3-d84f-74f26f44d071"
      },
      "execution_count": null,
      "outputs": [
        {
          "output_type": "stream",
          "name": "stderr",
          "text": [
            "WARNING:tensorflow:Detecting that an object or model or tf.train.Checkpoint is being deleted with unrestored values. See the following logs for the specific values in question. To silence these warnings, use `status.expect_partial()`. See https://www.tensorflow.org/api_docs/python/tf/train/Checkpoint#restorefor details about the status object returned by the restore function.\n",
            "WARNING:tensorflow:Value in checkpoint could not be found in the restored object: (root).optimizer.iter\n",
            "WARNING:tensorflow:Value in checkpoint could not be found in the restored object: (root).optimizer.beta_1\n",
            "WARNING:tensorflow:Value in checkpoint could not be found in the restored object: (root).optimizer.beta_2\n",
            "WARNING:tensorflow:Value in checkpoint could not be found in the restored object: (root).optimizer.decay\n",
            "WARNING:tensorflow:Value in checkpoint could not be found in the restored object: (root).optimizer.learning_rate\n"
          ]
        },
        {
          "output_type": "stream",
          "name": "stdout",
          "text": [
            "1563/1563 [==============================] - 7s 3ms/step - loss: 0.5531 - accuracy: 0.8121\n"
          ]
        }
      ]
    },
    {
      "cell_type": "code",
      "source": [
        "histories['cnn']['history'] = history"
      ],
      "metadata": {
        "id": "tph_yqrX08ny"
      },
      "execution_count": null,
      "outputs": []
    },
    {
      "cell_type": "code",
      "source": [
        "print(classification_report(ytrain, cnn_predictions))"
      ],
      "metadata": {
        "colab": {
          "base_uri": "https://localhost:8080/"
        },
        "id": "H3BYLTCXyfZS",
        "outputId": "90a4114d-3095-489f-88b3-e078f7f5eff0"
      },
      "execution_count": null,
      "outputs": [
        {
          "output_type": "stream",
          "name": "stdout",
          "text": [
            "              precision    recall  f1-score   support\n",
            "\n",
            "           0       0.62      0.62      0.62      5000\n",
            "           1       0.73      0.69      0.71      5000\n",
            "           2       0.48      0.33      0.39      5000\n",
            "           3       0.44      0.42      0.43      5000\n",
            "           4       0.46      0.59      0.51      5000\n",
            "           5       0.53      0.38      0.44      5000\n",
            "           6       0.53      0.72      0.61      5000\n",
            "           7       0.68      0.66      0.67      5000\n",
            "           8       0.71      0.71      0.71      5000\n",
            "           9       0.63      0.68      0.65      5000\n",
            "\n",
            "    accuracy                           0.58     50000\n",
            "   macro avg       0.58      0.58      0.57     50000\n",
            "weighted avg       0.58      0.58      0.57     50000\n",
            "\n"
          ]
        }
      ]
    },
    {
      "cell_type": "markdown",
      "source": [
        "## plot metrics"
      ],
      "metadata": {
        "id": "XdD2jRq3vGhp"
      }
    },
    {
      "cell_type": "code",
      "source": [
        "plot_metrics(histories['ann']['history'], suptitle=\"ANN Model\")\n",
        "plot_metrics(histories['cnn']['history'], suptitle=\"CNN Model\")"
      ],
      "metadata": {
        "colab": {
          "base_uri": "https://localhost:8080/",
          "height": 1000
        },
        "id": "Fi-5txztvN8f",
        "outputId": "a920469a-0da6-4a2c-d61a-fc6f9f2172bc"
      },
      "execution_count": null,
      "outputs": [
        {
          "output_type": "display_data",
          "data": {
            "text/plain": [
              "<Figure size 1080x1080 with 2 Axes>"
            ],
            "image/png": "[encoded data removed]"
          },
          "metadata": {
            "needs_background": "light"
          }
        },
        {
          "output_type": "display_data",
          "data": {
            "text/plain": [
              "<Figure size 1080x1080 with 2 Axes>"
            ],
            "image/png": "[encoded data removed]"
          },
          "metadata": {
            "needs_background": "light"
          }
        }
      ]
    },
    {
      "cell_type": "code",
      "source": [],
      "metadata": {
        "id": "ltq9bevrF7rh"
      },
      "execution_count": null,
      "outputs": []
    }
  ]
}